{
 "cells": [
  {
   "cell_type": "markdown",
   "metadata": {},
   "source": [
    "### Data Preparation"
   ]
  },
  {
   "cell_type": "markdown",
   "metadata": {},
   "source": [
    "The data used in this model is ebay bid data uploaded in the repository and contains 7 sel-explanatory predictor variables: \n",
    "Category (18 categories), Currency (USD, GBP, Euro), sellerRating, Duration (1, 3, 5, 7, or 10 days), EndDay (Monday–Sunday), ClosePrice and OpenPrice."
   ]
  },
  {
   "cell_type": "markdown",
   "metadata": {},
   "source": [
    "All required libraries have been installed in an Anacoda environment"
   ]
  },
  {
   "cell_type": "code",
   "execution_count": null,
   "metadata": {},
   "outputs": [],
   "source": []
  },
  {
   "cell_type": "code",
   "execution_count": 1,
   "metadata": {},
   "outputs": [
    {
     "name": "stdout",
     "output_type": "stream",
     "text": [
      "no display found. Using non-interactive Agg backend\n"
     ]
    }
   ],
   "source": [
    "import pandas as pd\n",
    "import numpy as np\n",
    "import matplotlib.pyplot as plt\n",
    "import graphviz\n",
    "from sklearn.tree import DecisionTreeClassifier, export_graphviz\n",
    "from sklearn.model_selection import train_test_split, cross_val_score, GridSearchCV\n",
    "from sklearn.metrics import accuracy_score\n",
    "from sklearn.tree import export_text\n",
    "from dmba import classificationSummary"
   ]
  },
  {
   "cell_type": "code",
   "execution_count": 2,
   "metadata": {},
   "outputs": [],
   "source": [
    "xlsx = pd.ExcelFile('eBayAuctions.xlsx')\n",
    "df = pd.read_excel(xlsx, 'eBay auctions')"
   ]
  },
  {
   "cell_type": "code",
   "execution_count": 8,
   "metadata": {},
   "outputs": [
    {
     "data": {
      "text/html": [
       "<div>\n",
       "<style scoped>\n",
       "    .dataframe tbody tr th:only-of-type {\n",
       "        vertical-align: middle;\n",
       "    }\n",
       "\n",
       "    .dataframe tbody tr th {\n",
       "        vertical-align: top;\n",
       "    }\n",
       "\n",
       "    .dataframe thead th {\n",
       "        text-align: right;\n",
       "    }\n",
       "</style>\n",
       "<table border=\"1\" class=\"dataframe\">\n",
       "  <thead>\n",
       "    <tr style=\"text-align: right;\">\n",
       "      <th></th>\n",
       "      <th>Category</th>\n",
       "      <th>Currency</th>\n",
       "      <th>sellerRating</th>\n",
       "      <th>Duration</th>\n",
       "      <th>endDay</th>\n",
       "      <th>ClosePrice</th>\n",
       "      <th>OpenPrice</th>\n",
       "      <th>Competitive?</th>\n",
       "    </tr>\n",
       "  </thead>\n",
       "  <tbody>\n",
       "    <tr>\n",
       "      <th>0</th>\n",
       "      <td>Music/Movie/Game</td>\n",
       "      <td>US</td>\n",
       "      <td>3249</td>\n",
       "      <td>5</td>\n",
       "      <td>Mon</td>\n",
       "      <td>0.01</td>\n",
       "      <td>0.01</td>\n",
       "      <td>0</td>\n",
       "    </tr>\n",
       "    <tr>\n",
       "      <th>1</th>\n",
       "      <td>Music/Movie/Game</td>\n",
       "      <td>US</td>\n",
       "      <td>3249</td>\n",
       "      <td>5</td>\n",
       "      <td>Mon</td>\n",
       "      <td>0.01</td>\n",
       "      <td>0.01</td>\n",
       "      <td>0</td>\n",
       "    </tr>\n",
       "    <tr>\n",
       "      <th>2</th>\n",
       "      <td>Music/Movie/Game</td>\n",
       "      <td>US</td>\n",
       "      <td>3249</td>\n",
       "      <td>5</td>\n",
       "      <td>Mon</td>\n",
       "      <td>0.01</td>\n",
       "      <td>0.01</td>\n",
       "      <td>0</td>\n",
       "    </tr>\n",
       "    <tr>\n",
       "      <th>3</th>\n",
       "      <td>Music/Movie/Game</td>\n",
       "      <td>US</td>\n",
       "      <td>3249</td>\n",
       "      <td>5</td>\n",
       "      <td>Mon</td>\n",
       "      <td>0.01</td>\n",
       "      <td>0.01</td>\n",
       "      <td>0</td>\n",
       "    </tr>\n",
       "    <tr>\n",
       "      <th>4</th>\n",
       "      <td>Music/Movie/Game</td>\n",
       "      <td>US</td>\n",
       "      <td>3249</td>\n",
       "      <td>5</td>\n",
       "      <td>Mon</td>\n",
       "      <td>0.01</td>\n",
       "      <td>0.01</td>\n",
       "      <td>0</td>\n",
       "    </tr>\n",
       "  </tbody>\n",
       "</table>\n",
       "</div>"
      ],
      "text/plain": [
       "           Category Currency  sellerRating  Duration endDay  ClosePrice  \\\n",
       "0  Music/Movie/Game       US          3249         5    Mon        0.01   \n",
       "1  Music/Movie/Game       US          3249         5    Mon        0.01   \n",
       "2  Music/Movie/Game       US          3249         5    Mon        0.01   \n",
       "3  Music/Movie/Game       US          3249         5    Mon        0.01   \n",
       "4  Music/Movie/Game       US          3249         5    Mon        0.01   \n",
       "\n",
       "   OpenPrice  Competitive?  \n",
       "0       0.01             0  \n",
       "1       0.01             0  \n",
       "2       0.01             0  \n",
       "3       0.01             0  \n",
       "4       0.01             0  "
      ]
     },
     "execution_count": 8,
     "metadata": {},
     "output_type": "execute_result"
    }
   ],
   "source": [
    "df.head()"
   ]
  },
  {
   "cell_type": "code",
   "execution_count": 4,
   "metadata": {},
   "outputs": [
    {
     "name": "stdout",
     "output_type": "stream",
     "text": [
      "<class 'pandas.core.frame.DataFrame'>\n",
      "RangeIndex: 1972 entries, 0 to 1971\n",
      "Data columns (total 8 columns):\n",
      " #   Column        Non-Null Count  Dtype  \n",
      "---  ------        --------------  -----  \n",
      " 0   Category      1972 non-null   object \n",
      " 1   Currency      1972 non-null   object \n",
      " 2   sellerRating  1972 non-null   int64  \n",
      " 3   Duration      1972 non-null   int64  \n",
      " 4   endDay        1972 non-null   object \n",
      " 5   ClosePrice    1972 non-null   float64\n",
      " 6   OpenPrice     1972 non-null   float64\n",
      " 7   Competitive?  1972 non-null   int64  \n",
      "dtypes: float64(2), int64(3), object(3)\n",
      "memory usage: 123.4+ KB\n"
     ]
    }
   ],
   "source": [
    "df.info()"
   ]
  },
  {
   "cell_type": "code",
   "execution_count": 6,
   "metadata": {},
   "outputs": [
    {
     "data": {
      "text/html": [
       "<div>\n",
       "<style scoped>\n",
       "    .dataframe tbody tr th:only-of-type {\n",
       "        vertical-align: middle;\n",
       "    }\n",
       "\n",
       "    .dataframe tbody tr th {\n",
       "        vertical-align: top;\n",
       "    }\n",
       "\n",
       "    .dataframe thead th {\n",
       "        text-align: right;\n",
       "    }\n",
       "</style>\n",
       "<table border=\"1\" class=\"dataframe\">\n",
       "  <thead>\n",
       "    <tr style=\"text-align: right;\">\n",
       "      <th></th>\n",
       "      <th>sellerRating</th>\n",
       "      <th>Duration</th>\n",
       "      <th>ClosePrice</th>\n",
       "      <th>OpenPrice</th>\n",
       "      <th>Competitive?</th>\n",
       "    </tr>\n",
       "  </thead>\n",
       "  <tbody>\n",
       "    <tr>\n",
       "      <th>count</th>\n",
       "      <td>1972.000000</td>\n",
       "      <td>1972.000000</td>\n",
       "      <td>1972.000000</td>\n",
       "      <td>1972.000000</td>\n",
       "      <td>1972.000000</td>\n",
       "    </tr>\n",
       "    <tr>\n",
       "      <th>mean</th>\n",
       "      <td>3560.238337</td>\n",
       "      <td>6.486308</td>\n",
       "      <td>36.449087</td>\n",
       "      <td>12.926268</td>\n",
       "      <td>0.540568</td>\n",
       "    </tr>\n",
       "    <tr>\n",
       "      <th>std</th>\n",
       "      <td>5973.011033</td>\n",
       "      <td>2.052906</td>\n",
       "      <td>89.493858</td>\n",
       "      <td>38.856149</td>\n",
       "      <td>0.498478</td>\n",
       "    </tr>\n",
       "    <tr>\n",
       "      <th>min</th>\n",
       "      <td>0.000000</td>\n",
       "      <td>1.000000</td>\n",
       "      <td>0.010000</td>\n",
       "      <td>0.010000</td>\n",
       "      <td>0.000000</td>\n",
       "    </tr>\n",
       "    <tr>\n",
       "      <th>25%</th>\n",
       "      <td>595.000000</td>\n",
       "      <td>5.000000</td>\n",
       "      <td>4.907500</td>\n",
       "      <td>1.230000</td>\n",
       "      <td>0.000000</td>\n",
       "    </tr>\n",
       "    <tr>\n",
       "      <th>50%</th>\n",
       "      <td>1853.000000</td>\n",
       "      <td>7.000000</td>\n",
       "      <td>9.995000</td>\n",
       "      <td>4.500000</td>\n",
       "      <td>1.000000</td>\n",
       "    </tr>\n",
       "    <tr>\n",
       "      <th>75%</th>\n",
       "      <td>3380.000000</td>\n",
       "      <td>7.000000</td>\n",
       "      <td>28.000000</td>\n",
       "      <td>9.990000</td>\n",
       "      <td>1.000000</td>\n",
       "    </tr>\n",
       "    <tr>\n",
       "      <th>max</th>\n",
       "      <td>37727.000000</td>\n",
       "      <td>10.000000</td>\n",
       "      <td>999.000000</td>\n",
       "      <td>999.000000</td>\n",
       "      <td>1.000000</td>\n",
       "    </tr>\n",
       "  </tbody>\n",
       "</table>\n",
       "</div>"
      ],
      "text/plain": [
       "       sellerRating     Duration   ClosePrice    OpenPrice  Competitive?\n",
       "count   1972.000000  1972.000000  1972.000000  1972.000000   1972.000000\n",
       "mean    3560.238337     6.486308    36.449087    12.926268      0.540568\n",
       "std     5973.011033     2.052906    89.493858    38.856149      0.498478\n",
       "min        0.000000     1.000000     0.010000     0.010000      0.000000\n",
       "25%      595.000000     5.000000     4.907500     1.230000      0.000000\n",
       "50%     1853.000000     7.000000     9.995000     4.500000      1.000000\n",
       "75%     3380.000000     7.000000    28.000000     9.990000      1.000000\n",
       "max    37727.000000    10.000000   999.000000   999.000000      1.000000"
      ]
     },
     "execution_count": 6,
     "metadata": {},
     "output_type": "execute_result"
    }
   ],
   "source": [
    "df.describe()"
   ]
  },
  {
   "cell_type": "code",
   "execution_count": 5,
   "metadata": {
    "scrolled": false
   },
   "outputs": [
    {
     "data": {
      "text/plain": [
       "Category        0\n",
       "Currency        0\n",
       "sellerRating    0\n",
       "Duration        0\n",
       "endDay          0\n",
       "ClosePrice      0\n",
       "OpenPrice       0\n",
       "Competitive?    0\n",
       "dtype: int64"
      ]
     },
     "execution_count": 5,
     "metadata": {},
     "output_type": "execute_result"
    }
   ],
   "source": [
    "df.isna().sum()"
   ]
  },
  {
   "cell_type": "code",
   "execution_count": 9,
   "metadata": {},
   "outputs": [
    {
     "name": "stdout",
     "output_type": "stream",
     "text": [
      "<class 'pandas.core.frame.DataFrame'>\n",
      "RangeIndex: 1972 entries, 0 to 1971\n",
      "Data columns (total 8 columns):\n",
      " #   Column        Non-Null Count  Dtype  \n",
      "---  ------        --------------  -----  \n",
      " 0   Category      1972 non-null   object \n",
      " 1   Currency      1972 non-null   object \n",
      " 2   sellerRating  1972 non-null   int64  \n",
      " 3   Duration      1972 non-null   object \n",
      " 4   endDay        1972 non-null   object \n",
      " 5   ClosePrice    1972 non-null   float64\n",
      " 6   OpenPrice     1972 non-null   float64\n",
      " 7   Competitive?  1972 non-null   int64  \n",
      "dtypes: float64(2), int64(2), object(4)\n",
      "memory usage: 123.4+ KB\n"
     ]
    }
   ],
   "source": [
    "# convert Duration type from int to object for creating dummy variables \n",
    "df = df.astype({'Duration': 'object'})\n",
    "df.info()"
   ]
  },
  {
   "cell_type": "code",
   "execution_count": 10,
   "metadata": {
    "scrolled": true
   },
   "outputs": [],
   "source": [
    "df = pd.get_dummies(df)"
   ]
  },
  {
   "cell_type": "code",
   "execution_count": 11,
   "metadata": {},
   "outputs": [
    {
     "name": "stdout",
     "output_type": "stream",
     "text": [
      "<class 'pandas.core.frame.DataFrame'>\n",
      "RangeIndex: 1972 entries, 0 to 1971\n",
      "Data columns (total 37 columns):\n",
      " #   Column                         Non-Null Count  Dtype  \n",
      "---  ------                         --------------  -----  \n",
      " 0   sellerRating                   1972 non-null   int64  \n",
      " 1   ClosePrice                     1972 non-null   float64\n",
      " 2   OpenPrice                      1972 non-null   float64\n",
      " 3   Competitive?                   1972 non-null   int64  \n",
      " 4   Category_Antique/Art/Craft     1972 non-null   uint8  \n",
      " 5   Category_Automotive            1972 non-null   uint8  \n",
      " 6   Category_Books                 1972 non-null   uint8  \n",
      " 7   Category_Business/Industrial   1972 non-null   uint8  \n",
      " 8   Category_Clothing/Accessories  1972 non-null   uint8  \n",
      " 9   Category_Coins/Stamps          1972 non-null   uint8  \n",
      " 10  Category_Collectibles          1972 non-null   uint8  \n",
      " 11  Category_Computer              1972 non-null   uint8  \n",
      " 12  Category_Electronics           1972 non-null   uint8  \n",
      " 13  Category_EverythingElse        1972 non-null   uint8  \n",
      " 14  Category_Health/Beauty         1972 non-null   uint8  \n",
      " 15  Category_Home/Garden           1972 non-null   uint8  \n",
      " 16  Category_Jewelry               1972 non-null   uint8  \n",
      " 17  Category_Music/Movie/Game      1972 non-null   uint8  \n",
      " 18  Category_Photography           1972 non-null   uint8  \n",
      " 19  Category_Pottery/Glass         1972 non-null   uint8  \n",
      " 20  Category_SportingGoods         1972 non-null   uint8  \n",
      " 21  Category_Toys/Hobbies          1972 non-null   uint8  \n",
      " 22  Currency_EUR                   1972 non-null   uint8  \n",
      " 23  Currency_GBP                   1972 non-null   uint8  \n",
      " 24  Currency_US                    1972 non-null   uint8  \n",
      " 25  Duration_1                     1972 non-null   uint8  \n",
      " 26  Duration_3                     1972 non-null   uint8  \n",
      " 27  Duration_5                     1972 non-null   uint8  \n",
      " 28  Duration_7                     1972 non-null   uint8  \n",
      " 29  Duration_10                    1972 non-null   uint8  \n",
      " 30  endDay_Fri                     1972 non-null   uint8  \n",
      " 31  endDay_Mon                     1972 non-null   uint8  \n",
      " 32  endDay_Sat                     1972 non-null   uint8  \n",
      " 33  endDay_Sun                     1972 non-null   uint8  \n",
      " 34  endDay_Thu                     1972 non-null   uint8  \n",
      " 35  endDay_Tue                     1972 non-null   uint8  \n",
      " 36  endDay_Wed                     1972 non-null   uint8  \n",
      "dtypes: float64(2), int64(2), uint8(33)\n",
      "memory usage: 125.3 KB\n"
     ]
    }
   ],
   "source": [
    "df.info()"
   ]
  },
  {
   "cell_type": "code",
   "execution_count": null,
   "metadata": {},
   "outputs": [],
   "source": []
  },
  {
   "cell_type": "markdown",
   "metadata": {},
   "source": [
    "### First Classification Tree"
   ]
  },
  {
   "cell_type": "code",
   "execution_count": 14,
   "metadata": {},
   "outputs": [],
   "source": [
    "# create dataframe of all predictor variables\n",
    "\n",
    "X = df.drop(columns = ['Competitive?'])"
   ]
  },
  {
   "cell_type": "code",
   "execution_count": 15,
   "metadata": {},
   "outputs": [
    {
     "data": {
      "text/html": [
       "<div>\n",
       "<style scoped>\n",
       "    .dataframe tbody tr th:only-of-type {\n",
       "        vertical-align: middle;\n",
       "    }\n",
       "\n",
       "    .dataframe tbody tr th {\n",
       "        vertical-align: top;\n",
       "    }\n",
       "\n",
       "    .dataframe thead th {\n",
       "        text-align: right;\n",
       "    }\n",
       "</style>\n",
       "<table border=\"1\" class=\"dataframe\">\n",
       "  <thead>\n",
       "    <tr style=\"text-align: right;\">\n",
       "      <th></th>\n",
       "      <th>sellerRating</th>\n",
       "      <th>ClosePrice</th>\n",
       "      <th>OpenPrice</th>\n",
       "      <th>Category_Antique/Art/Craft</th>\n",
       "      <th>Category_Automotive</th>\n",
       "      <th>Category_Books</th>\n",
       "      <th>Category_Business/Industrial</th>\n",
       "      <th>Category_Clothing/Accessories</th>\n",
       "      <th>Category_Coins/Stamps</th>\n",
       "      <th>Category_Collectibles</th>\n",
       "      <th>...</th>\n",
       "      <th>Duration_5</th>\n",
       "      <th>Duration_7</th>\n",
       "      <th>Duration_10</th>\n",
       "      <th>endDay_Fri</th>\n",
       "      <th>endDay_Mon</th>\n",
       "      <th>endDay_Sat</th>\n",
       "      <th>endDay_Sun</th>\n",
       "      <th>endDay_Thu</th>\n",
       "      <th>endDay_Tue</th>\n",
       "      <th>endDay_Wed</th>\n",
       "    </tr>\n",
       "  </thead>\n",
       "  <tbody>\n",
       "    <tr>\n",
       "      <th>count</th>\n",
       "      <td>1972.000000</td>\n",
       "      <td>1972.000000</td>\n",
       "      <td>1972.000000</td>\n",
       "      <td>1972.000000</td>\n",
       "      <td>1972.000000</td>\n",
       "      <td>1972.000000</td>\n",
       "      <td>1972.000000</td>\n",
       "      <td>1972.000000</td>\n",
       "      <td>1972.000000</td>\n",
       "      <td>1972.000000</td>\n",
       "      <td>...</td>\n",
       "      <td>1972.000000</td>\n",
       "      <td>1972.000000</td>\n",
       "      <td>1972.000000</td>\n",
       "      <td>1972.000000</td>\n",
       "      <td>1972.000000</td>\n",
       "      <td>1972.000000</td>\n",
       "      <td>1972.000000</td>\n",
       "      <td>1972.000000</td>\n",
       "      <td>1972.000000</td>\n",
       "      <td>1972.000000</td>\n",
       "    </tr>\n",
       "    <tr>\n",
       "      <th>mean</th>\n",
       "      <td>3560.238337</td>\n",
       "      <td>36.449087</td>\n",
       "      <td>12.926268</td>\n",
       "      <td>0.089757</td>\n",
       "      <td>0.090264</td>\n",
       "      <td>0.027383</td>\n",
       "      <td>0.009128</td>\n",
       "      <td>0.060345</td>\n",
       "      <td>0.018763</td>\n",
       "      <td>0.121197</td>\n",
       "      <td>...</td>\n",
       "      <td>0.236308</td>\n",
       "      <td>0.490365</td>\n",
       "      <td>0.153651</td>\n",
       "      <td>0.145538</td>\n",
       "      <td>0.277890</td>\n",
       "      <td>0.177992</td>\n",
       "      <td>0.171400</td>\n",
       "      <td>0.102434</td>\n",
       "      <td>0.086714</td>\n",
       "      <td>0.038032</td>\n",
       "    </tr>\n",
       "    <tr>\n",
       "      <th>std</th>\n",
       "      <td>5973.011033</td>\n",
       "      <td>89.493858</td>\n",
       "      <td>38.856149</td>\n",
       "      <td>0.285905</td>\n",
       "      <td>0.286632</td>\n",
       "      <td>0.163239</td>\n",
       "      <td>0.095127</td>\n",
       "      <td>0.238185</td>\n",
       "      <td>0.135720</td>\n",
       "      <td>0.326439</td>\n",
       "      <td>...</td>\n",
       "      <td>0.424921</td>\n",
       "      <td>0.500034</td>\n",
       "      <td>0.360705</td>\n",
       "      <td>0.352731</td>\n",
       "      <td>0.448073</td>\n",
       "      <td>0.382603</td>\n",
       "      <td>0.376953</td>\n",
       "      <td>0.303295</td>\n",
       "      <td>0.281487</td>\n",
       "      <td>0.191323</td>\n",
       "    </tr>\n",
       "    <tr>\n",
       "      <th>min</th>\n",
       "      <td>0.000000</td>\n",
       "      <td>0.010000</td>\n",
       "      <td>0.010000</td>\n",
       "      <td>0.000000</td>\n",
       "      <td>0.000000</td>\n",
       "      <td>0.000000</td>\n",
       "      <td>0.000000</td>\n",
       "      <td>0.000000</td>\n",
       "      <td>0.000000</td>\n",
       "      <td>0.000000</td>\n",
       "      <td>...</td>\n",
       "      <td>0.000000</td>\n",
       "      <td>0.000000</td>\n",
       "      <td>0.000000</td>\n",
       "      <td>0.000000</td>\n",
       "      <td>0.000000</td>\n",
       "      <td>0.000000</td>\n",
       "      <td>0.000000</td>\n",
       "      <td>0.000000</td>\n",
       "      <td>0.000000</td>\n",
       "      <td>0.000000</td>\n",
       "    </tr>\n",
       "    <tr>\n",
       "      <th>25%</th>\n",
       "      <td>595.000000</td>\n",
       "      <td>4.907500</td>\n",
       "      <td>1.230000</td>\n",
       "      <td>0.000000</td>\n",
       "      <td>0.000000</td>\n",
       "      <td>0.000000</td>\n",
       "      <td>0.000000</td>\n",
       "      <td>0.000000</td>\n",
       "      <td>0.000000</td>\n",
       "      <td>0.000000</td>\n",
       "      <td>...</td>\n",
       "      <td>0.000000</td>\n",
       "      <td>0.000000</td>\n",
       "      <td>0.000000</td>\n",
       "      <td>0.000000</td>\n",
       "      <td>0.000000</td>\n",
       "      <td>0.000000</td>\n",
       "      <td>0.000000</td>\n",
       "      <td>0.000000</td>\n",
       "      <td>0.000000</td>\n",
       "      <td>0.000000</td>\n",
       "    </tr>\n",
       "    <tr>\n",
       "      <th>50%</th>\n",
       "      <td>1853.000000</td>\n",
       "      <td>9.995000</td>\n",
       "      <td>4.500000</td>\n",
       "      <td>0.000000</td>\n",
       "      <td>0.000000</td>\n",
       "      <td>0.000000</td>\n",
       "      <td>0.000000</td>\n",
       "      <td>0.000000</td>\n",
       "      <td>0.000000</td>\n",
       "      <td>0.000000</td>\n",
       "      <td>...</td>\n",
       "      <td>0.000000</td>\n",
       "      <td>0.000000</td>\n",
       "      <td>0.000000</td>\n",
       "      <td>0.000000</td>\n",
       "      <td>0.000000</td>\n",
       "      <td>0.000000</td>\n",
       "      <td>0.000000</td>\n",
       "      <td>0.000000</td>\n",
       "      <td>0.000000</td>\n",
       "      <td>0.000000</td>\n",
       "    </tr>\n",
       "    <tr>\n",
       "      <th>75%</th>\n",
       "      <td>3380.000000</td>\n",
       "      <td>28.000000</td>\n",
       "      <td>9.990000</td>\n",
       "      <td>0.000000</td>\n",
       "      <td>0.000000</td>\n",
       "      <td>0.000000</td>\n",
       "      <td>0.000000</td>\n",
       "      <td>0.000000</td>\n",
       "      <td>0.000000</td>\n",
       "      <td>0.000000</td>\n",
       "      <td>...</td>\n",
       "      <td>0.000000</td>\n",
       "      <td>1.000000</td>\n",
       "      <td>0.000000</td>\n",
       "      <td>0.000000</td>\n",
       "      <td>1.000000</td>\n",
       "      <td>0.000000</td>\n",
       "      <td>0.000000</td>\n",
       "      <td>0.000000</td>\n",
       "      <td>0.000000</td>\n",
       "      <td>0.000000</td>\n",
       "    </tr>\n",
       "    <tr>\n",
       "      <th>max</th>\n",
       "      <td>37727.000000</td>\n",
       "      <td>999.000000</td>\n",
       "      <td>999.000000</td>\n",
       "      <td>1.000000</td>\n",
       "      <td>1.000000</td>\n",
       "      <td>1.000000</td>\n",
       "      <td>1.000000</td>\n",
       "      <td>1.000000</td>\n",
       "      <td>1.000000</td>\n",
       "      <td>1.000000</td>\n",
       "      <td>...</td>\n",
       "      <td>1.000000</td>\n",
       "      <td>1.000000</td>\n",
       "      <td>1.000000</td>\n",
       "      <td>1.000000</td>\n",
       "      <td>1.000000</td>\n",
       "      <td>1.000000</td>\n",
       "      <td>1.000000</td>\n",
       "      <td>1.000000</td>\n",
       "      <td>1.000000</td>\n",
       "      <td>1.000000</td>\n",
       "    </tr>\n",
       "  </tbody>\n",
       "</table>\n",
       "<p>8 rows × 36 columns</p>\n",
       "</div>"
      ],
      "text/plain": [
       "       sellerRating   ClosePrice    OpenPrice  Category_Antique/Art/Craft  \\\n",
       "count   1972.000000  1972.000000  1972.000000                 1972.000000   \n",
       "mean    3560.238337    36.449087    12.926268                    0.089757   \n",
       "std     5973.011033    89.493858    38.856149                    0.285905   \n",
       "min        0.000000     0.010000     0.010000                    0.000000   \n",
       "25%      595.000000     4.907500     1.230000                    0.000000   \n",
       "50%     1853.000000     9.995000     4.500000                    0.000000   \n",
       "75%     3380.000000    28.000000     9.990000                    0.000000   \n",
       "max    37727.000000   999.000000   999.000000                    1.000000   \n",
       "\n",
       "       Category_Automotive  Category_Books  Category_Business/Industrial  \\\n",
       "count          1972.000000     1972.000000                   1972.000000   \n",
       "mean              0.090264        0.027383                      0.009128   \n",
       "std               0.286632        0.163239                      0.095127   \n",
       "min               0.000000        0.000000                      0.000000   \n",
       "25%               0.000000        0.000000                      0.000000   \n",
       "50%               0.000000        0.000000                      0.000000   \n",
       "75%               0.000000        0.000000                      0.000000   \n",
       "max               1.000000        1.000000                      1.000000   \n",
       "\n",
       "       Category_Clothing/Accessories  Category_Coins/Stamps  \\\n",
       "count                    1972.000000            1972.000000   \n",
       "mean                        0.060345               0.018763   \n",
       "std                         0.238185               0.135720   \n",
       "min                         0.000000               0.000000   \n",
       "25%                         0.000000               0.000000   \n",
       "50%                         0.000000               0.000000   \n",
       "75%                         0.000000               0.000000   \n",
       "max                         1.000000               1.000000   \n",
       "\n",
       "       Category_Collectibles  ...   Duration_5   Duration_7  Duration_10  \\\n",
       "count            1972.000000  ...  1972.000000  1972.000000  1972.000000   \n",
       "mean                0.121197  ...     0.236308     0.490365     0.153651   \n",
       "std                 0.326439  ...     0.424921     0.500034     0.360705   \n",
       "min                 0.000000  ...     0.000000     0.000000     0.000000   \n",
       "25%                 0.000000  ...     0.000000     0.000000     0.000000   \n",
       "50%                 0.000000  ...     0.000000     0.000000     0.000000   \n",
       "75%                 0.000000  ...     0.000000     1.000000     0.000000   \n",
       "max                 1.000000  ...     1.000000     1.000000     1.000000   \n",
       "\n",
       "        endDay_Fri   endDay_Mon   endDay_Sat   endDay_Sun   endDay_Thu  \\\n",
       "count  1972.000000  1972.000000  1972.000000  1972.000000  1972.000000   \n",
       "mean      0.145538     0.277890     0.177992     0.171400     0.102434   \n",
       "std       0.352731     0.448073     0.382603     0.376953     0.303295   \n",
       "min       0.000000     0.000000     0.000000     0.000000     0.000000   \n",
       "25%       0.000000     0.000000     0.000000     0.000000     0.000000   \n",
       "50%       0.000000     0.000000     0.000000     0.000000     0.000000   \n",
       "75%       0.000000     1.000000     0.000000     0.000000     0.000000   \n",
       "max       1.000000     1.000000     1.000000     1.000000     1.000000   \n",
       "\n",
       "        endDay_Tue   endDay_Wed  \n",
       "count  1972.000000  1972.000000  \n",
       "mean      0.086714     0.038032  \n",
       "std       0.281487     0.191323  \n",
       "min       0.000000     0.000000  \n",
       "25%       0.000000     0.000000  \n",
       "50%       0.000000     0.000000  \n",
       "75%       0.000000     0.000000  \n",
       "max       1.000000     1.000000  \n",
       "\n",
       "[8 rows x 36 columns]"
      ]
     },
     "execution_count": 15,
     "metadata": {},
     "output_type": "execute_result"
    }
   ],
   "source": [
    "X.describe()"
   ]
  },
  {
   "cell_type": "code",
   "execution_count": 16,
   "metadata": {},
   "outputs": [],
   "source": [
    "# target variable y created\n",
    "\n",
    "y = df['Competitive?']"
   ]
  },
  {
   "cell_type": "code",
   "execution_count": 17,
   "metadata": {},
   "outputs": [],
   "source": [
    "# 60% - 40% train-test data split\n",
    "\n",
    "X_train, X_test, y_train, y_test = train_test_split(X, y, test_size=0.4, random_state = 1)"
   ]
  },
  {
   "cell_type": "code",
   "execution_count": 20,
   "metadata": {},
   "outputs": [
    {
     "data": {
      "text/plain": [
       "DecisionTreeClassifier(min_samples_leaf=50, random_state=1)"
      ]
     },
     "execution_count": 20,
     "metadata": {},
     "output_type": "execute_result"
    }
   ],
   "source": [
    "# instantiate and fit decision tree model with minimum number of samples at leaf node of 50\n",
    "\n",
    "fullClassTree = DecisionTreeClassifier(min_samples_leaf=50, random_state=1)\n",
    "fullClassTree.fit(X_train, y_train)"
   ]
  },
  {
   "cell_type": "code",
   "execution_count": 21,
   "metadata": {},
   "outputs": [
    {
     "data": {
      "text/plain": [
       "0.8162230671736375"
      ]
     },
     "execution_count": 21,
     "metadata": {},
     "output_type": "execute_result"
    }
   ],
   "source": [
    "# classification tree accuracy score\n",
    "\n",
    "fullClassTree.score(X_test, y_test)"
   ]
  },
  {
   "cell_type": "code",
   "execution_count": 22,
   "metadata": {},
   "outputs": [],
   "source": [
    "# library for decision tree graphic visuaization\n",
    "\n",
    "export_graphviz(fullClassTree, out_file='fullClassTree.dot',feature_names= X_train.columns)"
   ]
  },
  {
   "cell_type": "code",
   "execution_count": 23,
   "metadata": {},
   "outputs": [
    {
     "name": "stdout",
     "output_type": "stream",
     "text": [
      "|--- OpenPrice <= 3.62\n",
      "|   |--- ClosePrice <= 3.64\n",
      "|   |   |--- OpenPrice <= 1.03\n",
      "|   |   |   |--- class: 1\n",
      "|   |   |--- OpenPrice >  1.03\n",
      "|   |   |   |--- OpenPrice <= 2.45\n",
      "|   |   |   |   |--- class: 0\n",
      "|   |   |   |--- OpenPrice >  2.45\n",
      "|   |   |   |   |--- class: 0\n",
      "|   |--- ClosePrice >  3.64\n",
      "|   |   |--- Duration_10 <= 0.50\n",
      "|   |   |   |--- class: 1\n",
      "|   |   |--- Duration_10 >  0.50\n",
      "|   |   |   |--- class: 1\n",
      "|--- OpenPrice >  3.62\n",
      "|   |--- ClosePrice <= 10.00\n",
      "|   |   |--- OpenPrice <= 4.97\n",
      "|   |   |   |--- class: 0\n",
      "|   |   |--- OpenPrice >  4.97\n",
      "|   |   |   |--- ClosePrice <= 6.82\n",
      "|   |   |   |   |--- class: 0\n",
      "|   |   |   |--- ClosePrice >  6.82\n",
      "|   |   |   |   |--- OpenPrice <= 7.99\n",
      "|   |   |   |   |   |--- class: 0\n",
      "|   |   |   |   |--- OpenPrice >  7.99\n",
      "|   |   |   |   |   |--- class: 0\n",
      "|   |--- ClosePrice >  10.00\n",
      "|   |   |--- OpenPrice <= 10.97\n",
      "|   |   |   |--- OpenPrice <= 9.89\n",
      "|   |   |   |   |--- class: 1\n",
      "|   |   |   |--- OpenPrice >  9.89\n",
      "|   |   |   |   |--- class: 1\n",
      "|   |   |--- OpenPrice >  10.97\n",
      "|   |   |   |--- sellerRating <= 813.00\n",
      "|   |   |   |   |--- class: 1\n",
      "|   |   |   |--- sellerRating >  813.00\n",
      "|   |   |   |   |--- sellerRating <= 2107.00\n",
      "|   |   |   |   |   |--- class: 0\n",
      "|   |   |   |   |--- sellerRating >  2107.00\n",
      "|   |   |   |   |   |--- sellerRating <= 3499.00\n",
      "|   |   |   |   |   |   |--- class: 0\n",
      "|   |   |   |   |   |--- sellerRating >  3499.00\n",
      "|   |   |   |   |   |   |--- class: 0\n",
      "\n"
     ]
    }
   ],
   "source": [
    "# Write down the results in terms of rules\n",
    "tree_rules = export_text(fullClassTree, feature_names=list(X_train.columns))\n",
    "print(tree_rules)"
   ]
  },
  {
   "cell_type": "markdown",
   "metadata": {},
   "source": [
    "#### Describe the interesting/unexpected and uninteresting (= rather obvious) information that these rules provide.\n",
    "Interesting result: It is quite interesting to see in one branch that the auction is competitive when sellerRating <= 813. By common sense, we expect the higher the seller rating is, the more competitive the auction would be, but not quite in this case. \n",
    "Another interesting point is about Duration. Even though the Duration_10 is used in the rules, it classified the result to be competitive auctions anyways no matter the duration is longer than 10 or not. \n",
    "\n",
    "\n",
    "Obvious information: Not all predictors are used in the decision tree classification rules. For Currency and EndDay, it is rather common sense that these predictors are not very related with the competitiveness of an aution. For category, it is also pretty obvious that the tree didn't get to use it as part of the rules becuase it has too manny (18) categories and we require at least 50 records in the terminal node. \n",
    "\n"
   ]
  },
  {
   "cell_type": "markdown",
   "metadata": {},
   "source": [
    "#### Suppose you had to slightly reduce the number of predictors due to software limitations, or for clarity of presentation, which would be (a) good variable(s) to choose?\n",
    "We would remove the variables Category, Currency and endDay. It is becuase these variables are not used in the decision tree rules and reducing them would improve the clarity and would not change the final results. This is not implemented in the next section but is a possible recommendation for a more nimble model."
   ]
  },
  {
   "cell_type": "code",
   "execution_count": 24,
   "metadata": {},
   "outputs": [
    {
     "data": {
      "text/plain": [
       "0.8162230671736375"
      ]
     },
     "execution_count": 24,
     "metadata": {},
     "output_type": "execute_result"
    }
   ],
   "source": [
    "# accuracy\n",
    "y_predicted = fullClassTree.predict(X_test)\n",
    "accuracy_score(y_test, y_predicted)"
   ]
  },
  {
   "cell_type": "code",
   "execution_count": 30,
   "metadata": {},
   "outputs": [
    {
     "name": "stdout",
     "output_type": "stream",
     "text": [
      "Confusion Matrix (Accuracy 0.8162)\n",
      "\n",
      "       Prediction\n",
      "Actual   0   1\n",
      "     0 305  48\n",
      "     1  97 339\n"
     ]
    }
   ],
   "source": [
    "classificationSummary(y_test, fullClassTree.predict(X_test))"
   ]
  },
  {
   "cell_type": "code",
   "execution_count": 31,
   "metadata": {},
   "outputs": [
    {
     "data": {
      "text/plain": [
       "{'ccp_alpha': 0.0,\n",
       " 'class_weight': None,\n",
       " 'criterion': 'gini',\n",
       " 'max_depth': None,\n",
       " 'max_features': None,\n",
       " 'max_leaf_nodes': None,\n",
       " 'min_impurity_decrease': 0.0,\n",
       " 'min_samples_leaf': 50,\n",
       " 'min_samples_split': 2,\n",
       " 'min_weight_fraction_leaf': 0.0,\n",
       " 'random_state': 1,\n",
       " 'splitter': 'best'}"
      ]
     },
     "execution_count": 31,
     "metadata": {},
     "output_type": "execute_result"
    }
   ],
   "source": [
    "fullClassTree.get_params()"
   ]
  },
  {
   "cell_type": "code",
   "execution_count": 27,
   "metadata": {},
   "outputs": [],
   "source": [
    "# copy the content to the visualizer: webgraphviz.com\n",
    "export_graphviz(fullClassTree, out_file='fullClassTree.dot',\n",
    "                feature_names = X_train.columns)"
   ]
  },
  {
   "cell_type": "markdown",
   "metadata": {},
   "source": [
    "#### Is this model practical for predicting the outcome of a new auction?\n",
    "\n",
    "No, because we won't be able to know the close price for a new auction ahead of it being \n",
    "concluded. "
   ]
  },
  {
   "cell_type": "markdown",
   "metadata": {},
   "source": [
    "### Second Classification Tree\n",
    "\n",
    "only with predictors that can be used for predicting the outcome of a new auction"
   ]
  },
  {
   "cell_type": "code",
   "execution_count": 52,
   "metadata": {},
   "outputs": [
    {
     "data": {
      "text/html": [
       "<div>\n",
       "<style scoped>\n",
       "    .dataframe tbody tr th:only-of-type {\n",
       "        vertical-align: middle;\n",
       "    }\n",
       "\n",
       "    .dataframe tbody tr th {\n",
       "        vertical-align: top;\n",
       "    }\n",
       "\n",
       "    .dataframe thead th {\n",
       "        text-align: right;\n",
       "    }\n",
       "</style>\n",
       "<table border=\"1\" class=\"dataframe\">\n",
       "  <thead>\n",
       "    <tr style=\"text-align: right;\">\n",
       "      <th></th>\n",
       "      <th>sellerRating</th>\n",
       "      <th>OpenPrice</th>\n",
       "      <th>Category_Antique/Art/Craft</th>\n",
       "      <th>Category_Automotive</th>\n",
       "      <th>Category_Books</th>\n",
       "      <th>Category_Business/Industrial</th>\n",
       "      <th>Category_Clothing/Accessories</th>\n",
       "      <th>Category_Coins/Stamps</th>\n",
       "      <th>Category_Collectibles</th>\n",
       "      <th>Category_Computer</th>\n",
       "      <th>...</th>\n",
       "      <th>Duration_5</th>\n",
       "      <th>Duration_7</th>\n",
       "      <th>Duration_10</th>\n",
       "      <th>endDay_Fri</th>\n",
       "      <th>endDay_Mon</th>\n",
       "      <th>endDay_Sat</th>\n",
       "      <th>endDay_Sun</th>\n",
       "      <th>endDay_Thu</th>\n",
       "      <th>endDay_Tue</th>\n",
       "      <th>endDay_Wed</th>\n",
       "    </tr>\n",
       "  </thead>\n",
       "  <tbody>\n",
       "    <tr>\n",
       "      <th>0</th>\n",
       "      <td>3249</td>\n",
       "      <td>0.01</td>\n",
       "      <td>0</td>\n",
       "      <td>0</td>\n",
       "      <td>0</td>\n",
       "      <td>0</td>\n",
       "      <td>0</td>\n",
       "      <td>0</td>\n",
       "      <td>0</td>\n",
       "      <td>0</td>\n",
       "      <td>...</td>\n",
       "      <td>1</td>\n",
       "      <td>0</td>\n",
       "      <td>0</td>\n",
       "      <td>0</td>\n",
       "      <td>1</td>\n",
       "      <td>0</td>\n",
       "      <td>0</td>\n",
       "      <td>0</td>\n",
       "      <td>0</td>\n",
       "      <td>0</td>\n",
       "    </tr>\n",
       "    <tr>\n",
       "      <th>1</th>\n",
       "      <td>3249</td>\n",
       "      <td>0.01</td>\n",
       "      <td>0</td>\n",
       "      <td>0</td>\n",
       "      <td>0</td>\n",
       "      <td>0</td>\n",
       "      <td>0</td>\n",
       "      <td>0</td>\n",
       "      <td>0</td>\n",
       "      <td>0</td>\n",
       "      <td>...</td>\n",
       "      <td>1</td>\n",
       "      <td>0</td>\n",
       "      <td>0</td>\n",
       "      <td>0</td>\n",
       "      <td>1</td>\n",
       "      <td>0</td>\n",
       "      <td>0</td>\n",
       "      <td>0</td>\n",
       "      <td>0</td>\n",
       "      <td>0</td>\n",
       "    </tr>\n",
       "    <tr>\n",
       "      <th>2</th>\n",
       "      <td>3249</td>\n",
       "      <td>0.01</td>\n",
       "      <td>0</td>\n",
       "      <td>0</td>\n",
       "      <td>0</td>\n",
       "      <td>0</td>\n",
       "      <td>0</td>\n",
       "      <td>0</td>\n",
       "      <td>0</td>\n",
       "      <td>0</td>\n",
       "      <td>...</td>\n",
       "      <td>1</td>\n",
       "      <td>0</td>\n",
       "      <td>0</td>\n",
       "      <td>0</td>\n",
       "      <td>1</td>\n",
       "      <td>0</td>\n",
       "      <td>0</td>\n",
       "      <td>0</td>\n",
       "      <td>0</td>\n",
       "      <td>0</td>\n",
       "    </tr>\n",
       "    <tr>\n",
       "      <th>3</th>\n",
       "      <td>3249</td>\n",
       "      <td>0.01</td>\n",
       "      <td>0</td>\n",
       "      <td>0</td>\n",
       "      <td>0</td>\n",
       "      <td>0</td>\n",
       "      <td>0</td>\n",
       "      <td>0</td>\n",
       "      <td>0</td>\n",
       "      <td>0</td>\n",
       "      <td>...</td>\n",
       "      <td>1</td>\n",
       "      <td>0</td>\n",
       "      <td>0</td>\n",
       "      <td>0</td>\n",
       "      <td>1</td>\n",
       "      <td>0</td>\n",
       "      <td>0</td>\n",
       "      <td>0</td>\n",
       "      <td>0</td>\n",
       "      <td>0</td>\n",
       "    </tr>\n",
       "    <tr>\n",
       "      <th>4</th>\n",
       "      <td>3249</td>\n",
       "      <td>0.01</td>\n",
       "      <td>0</td>\n",
       "      <td>0</td>\n",
       "      <td>0</td>\n",
       "      <td>0</td>\n",
       "      <td>0</td>\n",
       "      <td>0</td>\n",
       "      <td>0</td>\n",
       "      <td>0</td>\n",
       "      <td>...</td>\n",
       "      <td>1</td>\n",
       "      <td>0</td>\n",
       "      <td>0</td>\n",
       "      <td>0</td>\n",
       "      <td>1</td>\n",
       "      <td>0</td>\n",
       "      <td>0</td>\n",
       "      <td>0</td>\n",
       "      <td>0</td>\n",
       "      <td>0</td>\n",
       "    </tr>\n",
       "  </tbody>\n",
       "</table>\n",
       "<p>5 rows × 35 columns</p>\n",
       "</div>"
      ],
      "text/plain": [
       "   sellerRating  OpenPrice  Category_Antique/Art/Craft  Category_Automotive  \\\n",
       "0          3249       0.01                           0                    0   \n",
       "1          3249       0.01                           0                    0   \n",
       "2          3249       0.01                           0                    0   \n",
       "3          3249       0.01                           0                    0   \n",
       "4          3249       0.01                           0                    0   \n",
       "\n",
       "   Category_Books  Category_Business/Industrial  \\\n",
       "0               0                             0   \n",
       "1               0                             0   \n",
       "2               0                             0   \n",
       "3               0                             0   \n",
       "4               0                             0   \n",
       "\n",
       "   Category_Clothing/Accessories  Category_Coins/Stamps  \\\n",
       "0                              0                      0   \n",
       "1                              0                      0   \n",
       "2                              0                      0   \n",
       "3                              0                      0   \n",
       "4                              0                      0   \n",
       "\n",
       "   Category_Collectibles  Category_Computer  ...  Duration_5  Duration_7  \\\n",
       "0                      0                  0  ...           1           0   \n",
       "1                      0                  0  ...           1           0   \n",
       "2                      0                  0  ...           1           0   \n",
       "3                      0                  0  ...           1           0   \n",
       "4                      0                  0  ...           1           0   \n",
       "\n",
       "   Duration_10  endDay_Fri  endDay_Mon  endDay_Sat  endDay_Sun  endDay_Thu  \\\n",
       "0            0           0           1           0           0           0   \n",
       "1            0           0           1           0           0           0   \n",
       "2            0           0           1           0           0           0   \n",
       "3            0           0           1           0           0           0   \n",
       "4            0           0           1           0           0           0   \n",
       "\n",
       "   endDay_Tue  endDay_Wed  \n",
       "0           0           0  \n",
       "1           0           0  \n",
       "2           0           0  \n",
       "3           0           0  \n",
       "4           0           0  \n",
       "\n",
       "[5 rows x 35 columns]"
      ]
     },
     "execution_count": 52,
     "metadata": {},
     "output_type": "execute_result"
    }
   ],
   "source": [
    "cols = ['Competitive?'] + ['ClosePrice']\n",
    "X_reduced = df.drop(columns = cols)\n",
    "X_reduced.head()"
   ]
  },
  {
   "cell_type": "code",
   "execution_count": 53,
   "metadata": {},
   "outputs": [
    {
     "data": {
      "text/plain": [
       "array([0, 1], dtype=uint8)"
      ]
     },
     "execution_count": 53,
     "metadata": {},
     "output_type": "execute_result"
    }
   ],
   "source": [
    "df['Currency_EUR'].unique()"
   ]
  },
  {
   "cell_type": "code",
   "execution_count": 59,
   "metadata": {},
   "outputs": [
    {
     "name": "stdout",
     "output_type": "stream",
     "text": [
      "<class 'pandas.core.frame.DataFrame'>\n",
      "RangeIndex: 1972 entries, 0 to 1971\n",
      "Data columns (total 35 columns):\n",
      " #   Column                         Non-Null Count  Dtype  \n",
      "---  ------                         --------------  -----  \n",
      " 0   sellerRating                   1972 non-null   int64  \n",
      " 1   OpenPrice                      1972 non-null   float64\n",
      " 2   Category_Antique/Art/Craft     1972 non-null   uint8  \n",
      " 3   Category_Automotive            1972 non-null   uint8  \n",
      " 4   Category_Books                 1972 non-null   uint8  \n",
      " 5   Category_Business/Industrial   1972 non-null   uint8  \n",
      " 6   Category_Clothing/Accessories  1972 non-null   uint8  \n",
      " 7   Category_Coins/Stamps          1972 non-null   uint8  \n",
      " 8   Category_Collectibles          1972 non-null   uint8  \n",
      " 9   Category_Computer              1972 non-null   uint8  \n",
      " 10  Category_Electronics           1972 non-null   uint8  \n",
      " 11  Category_EverythingElse        1972 non-null   uint8  \n",
      " 12  Category_Health/Beauty         1972 non-null   uint8  \n",
      " 13  Category_Home/Garden           1972 non-null   uint8  \n",
      " 14  Category_Jewelry               1972 non-null   uint8  \n",
      " 15  Category_Music/Movie/Game      1972 non-null   uint8  \n",
      " 16  Category_Photography           1972 non-null   uint8  \n",
      " 17  Category_Pottery/Glass         1972 non-null   uint8  \n",
      " 18  Category_SportingGoods         1972 non-null   uint8  \n",
      " 19  Category_Toys/Hobbies          1972 non-null   uint8  \n",
      " 20  Currency_EUR                   1972 non-null   uint8  \n",
      " 21  Currency_GBP                   1972 non-null   uint8  \n",
      " 22  Currency_US                    1972 non-null   uint8  \n",
      " 23  Duration_1                     1972 non-null   uint8  \n",
      " 24  Duration_3                     1972 non-null   uint8  \n",
      " 25  Duration_5                     1972 non-null   uint8  \n",
      " 26  Duration_7                     1972 non-null   uint8  \n",
      " 27  Duration_10                    1972 non-null   uint8  \n",
      " 28  endDay_Fri                     1972 non-null   uint8  \n",
      " 29  endDay_Mon                     1972 non-null   uint8  \n",
      " 30  endDay_Sat                     1972 non-null   uint8  \n",
      " 31  endDay_Sun                     1972 non-null   uint8  \n",
      " 32  endDay_Thu                     1972 non-null   uint8  \n",
      " 33  endDay_Tue                     1972 non-null   uint8  \n",
      " 34  endDay_Wed                     1972 non-null   uint8  \n",
      "dtypes: float64(1), int64(1), uint8(33)\n",
      "memory usage: 94.5 KB\n"
     ]
    }
   ],
   "source": [
    "X_reduced.info()"
   ]
  },
  {
   "cell_type": "code",
   "execution_count": 55,
   "metadata": {},
   "outputs": [],
   "source": [
    "X_train_, X_test_, y_train_, y_test_ = train_test_split(X_reduced, y, test_size=0.4, random_state = 1)"
   ]
  },
  {
   "cell_type": "code",
   "execution_count": 56,
   "metadata": {},
   "outputs": [
    {
     "data": {
      "text/plain": [
       "DecisionTreeClassifier(min_samples_leaf=50, random_state=1)"
      ]
     },
     "execution_count": 56,
     "metadata": {},
     "output_type": "execute_result"
    }
   ],
   "source": [
    "# scaled down classification tree with ClosePrice removed\n",
    "\n",
    "smallClassTree = DecisionTreeClassifier(min_samples_leaf=50, random_state=1)\n",
    "smallClassTree.fit(X_train_, y_train_)"
   ]
  },
  {
   "cell_type": "code",
   "execution_count": 57,
   "metadata": {},
   "outputs": [
    {
     "name": "stdout",
     "output_type": "stream",
     "text": [
      "|--- OpenPrice <= 3.62\n",
      "|   |--- OpenPrice <= 1.04\n",
      "|   |   |--- sellerRating <= 3138.50\n",
      "|   |   |   |--- class: 1\n",
      "|   |   |--- sellerRating >  3138.50\n",
      "|   |   |   |--- class: 1\n",
      "|   |--- OpenPrice >  1.04\n",
      "|   |   |--- sellerRating <= 2365.50\n",
      "|   |   |   |--- Currency_EUR <= 0.50\n",
      "|   |   |   |   |--- sellerRating <= 2058.50\n",
      "|   |   |   |   |   |--- class: 1\n",
      "|   |   |   |   |--- sellerRating >  2058.50\n",
      "|   |   |   |   |   |--- class: 1\n",
      "|   |   |   |--- Currency_EUR >  0.50\n",
      "|   |   |   |   |--- OpenPrice <= 2.45\n",
      "|   |   |   |   |   |--- sellerRating <= 522.50\n",
      "|   |   |   |   |   |   |--- class: 1\n",
      "|   |   |   |   |   |--- sellerRating >  522.50\n",
      "|   |   |   |   |   |   |--- class: 1\n",
      "|   |   |   |   |--- OpenPrice >  2.45\n",
      "|   |   |   |   |   |--- class: 1\n",
      "|   |   |--- sellerRating >  2365.50\n",
      "|   |   |   |--- class: 0\n",
      "|--- OpenPrice >  3.62\n",
      "|   |--- sellerRating <= 601.50\n",
      "|   |   |--- sellerRating <= 128.00\n",
      "|   |   |   |--- class: 1\n",
      "|   |   |--- sellerRating >  128.00\n",
      "|   |   |   |--- class: 1\n",
      "|   |--- sellerRating >  601.50\n",
      "|   |   |--- Category_Toys/Hobbies <= 0.50\n",
      "|   |   |   |--- Category_Music/Movie/Game <= 0.50\n",
      "|   |   |   |   |--- sellerRating <= 4336.50\n",
      "|   |   |   |   |   |--- sellerRating <= 2150.00\n",
      "|   |   |   |   |   |   |--- sellerRating <= 1115.00\n",
      "|   |   |   |   |   |   |   |--- class: 0\n",
      "|   |   |   |   |   |   |--- sellerRating >  1115.00\n",
      "|   |   |   |   |   |   |   |--- sellerRating <= 1319.50\n",
      "|   |   |   |   |   |   |   |   |--- class: 0\n",
      "|   |   |   |   |   |   |   |--- sellerRating >  1319.50\n",
      "|   |   |   |   |   |   |   |   |--- class: 0\n",
      "|   |   |   |   |   |--- sellerRating >  2150.00\n",
      "|   |   |   |   |   |   |--- class: 0\n",
      "|   |   |   |   |--- sellerRating >  4336.50\n",
      "|   |   |   |   |   |--- sellerRating <= 5632.50\n",
      "|   |   |   |   |   |   |--- class: 0\n",
      "|   |   |   |   |   |--- sellerRating >  5632.50\n",
      "|   |   |   |   |   |   |--- class: 0\n",
      "|   |   |   |--- Category_Music/Movie/Game >  0.50\n",
      "|   |   |   |   |--- class: 0\n",
      "|   |   |--- Category_Toys/Hobbies >  0.50\n",
      "|   |   |   |--- class: 0\n",
      "\n"
     ]
    }
   ],
   "source": [
    "# Write down the results in terms of rules\n",
    "tree_rules = export_text(smallClassTree, feature_names=list(X_train_.columns))\n",
    "print(tree_rules)"
   ]
  },
  {
   "cell_type": "code",
   "execution_count": 38,
   "metadata": {},
   "outputs": [],
   "source": [
    "# create graphical visualization of decision tree\n",
    "# copy the content to the visualizer: webgraphviz.com\n",
    "\n",
    "export_graphviz(smallClassTree, out_file='smallClassTree.dot',\n",
    "                feature_names = X_train_.columns)"
   ]
  },
  {
   "cell_type": "code",
   "execution_count": 58,
   "metadata": {},
   "outputs": [],
   "source": [
    "%matplotlib inline"
   ]
  },
  {
   "cell_type": "code",
   "execution_count": 61,
   "metadata": {
    "scrolled": true
   },
   "outputs": [
    {
     "data": {
      "image/png": "[encoded data removed]",
      "text/plain": [
       "<Figure size 432x288 with 1 Axes>"
      ]
     },
     "metadata": {
      "needs_background": "light"
     },
     "output_type": "display_data"
    }
   ],
   "source": [
    "# Show variable interaction for sellerRating with OpenPrice\n",
    "\n",
    "\n",
    "x1 = df['OpenPrice']\n",
    "x2 = df['sellerRating']\n",
    "colors = df['Competitive?']\n",
    "\n",
    "plt.scatter(x2, x1, c=colors, alpha=0.5)\n",
    "plt.ylabel('OpenPrice')\n",
    "plt.xlabel('sellerRating')\n",
    "plt.show()"
   ]
  },
  {
   "cell_type": "markdown",
   "metadata": {},
   "source": [
    "#### Does this split seem reasonable with respect to the meaning of the two predictors? Does it seem to do a good job of separating the two classes?\n",
    "\n",
    "This split doesn't seem to be reasonable because it shows on the scatter plot that most competitive auctions and incompetive auctions are mixed together in the lower left corner when both the OpeningPrice and sellerRating are lower. In other words, neither variable alone does a good job of separating the two classes (competitive and non-competitive auctions). \n",
    "\n",
    "By just looking at the meaning of the two predictors, it is intuitive that auctions with lower Opening Price would be more competitive. Similarly,  higher Seller Rating, one would think should have more competitive auctions. However, the split with seller rating shows more competitiveness at lower ratings. A possible explanation is the fact that unpopular sellers (with only a few historical sales) find it easier to achieve a very high rating due to the paucity of rating scores given, while much more popular sellers with lots of sales would find it difficult to have very high ratings after multiple sales interactions, yet these are the popular sellers with competitive auctions and a larger buyer base."
   ]
  },
  {
   "cell_type": "code",
   "execution_count": 62,
   "metadata": {
    "scrolled": true
   },
   "outputs": [
    {
     "data": {
      "image/png": "[encoded data removed]",
      "text/plain": [
       "<Figure size 432x288 with 2 Axes>"
      ]
     },
     "metadata": {
      "needs_background": "light"
     },
     "output_type": "display_data"
    }
   ],
   "source": [
    "# Show variable interaction for sellerRating with OpenPrice and compare with ClosePrice(not used in final model)\n",
    "\n",
    "fig, ax = plt.subplots(2)\n",
    "\n",
    "x1 = df['OpenPrice']\n",
    "x2 = df['sellerRating']\n",
    "x3 = df['ClosePrice']\n",
    "colors = df['Competitive?']\n",
    "\n",
    "ax[0].scatter(x2, x1, c=colors, alpha=0.5)\n",
    "ax[0].set(xlabel='sellerRating', ylabel='OpenPrice')\n",
    "ax[0].legend(*scatter.legend_elements(),\n",
    "                    loc=\"upper right\", title=\"Competitive?\")\n",
    "\n",
    "ax[1].scatter(x2, x3, c=colors, alpha=0.5)\n",
    "ax[1].set(xlabel='sellerRating', ylabel='ClosePrice')\n",
    "ax[1].legend(*scatter.legend_elements(),\n",
    "                    loc=\"upper right\", title=\"Competitive?\")\n",
    "\n",
    "plt.show()"
   ]
  },
  {
   "cell_type": "code",
   "execution_count": 63,
   "metadata": {},
   "outputs": [
    {
     "name": "stdout",
     "output_type": "stream",
     "text": [
      "Confusion Matrix (Accuracy 0.7250)\n",
      "\n",
      "       Prediction\n",
      "Actual   0   1\n",
      "     0 261  92\n",
      "     1 125 311\n"
     ]
    }
   ],
   "source": [
    "classificationSummary(y_test_, smallClassTree.predict(X_test_))"
   ]
  },
  {
   "cell_type": "markdown",
   "metadata": {},
   "source": [
    "#### Examine the classification table for the tree. What can you say about the predictive performance of this model?\n",
    "\n",
    "The predictive performance is lower than the first tree but it is more practical in predicting the competitiveness of a new auction because it is impractical to build a forecast model that uses ClosePrice as a variable, given we have no way of knowing this variable's value ahead of the completion of the auction. \n",
    "The accuracy is 72.50% which still has some predictive power. "
   ]
  },
  {
   "cell_type": "code",
   "execution_count": 64,
   "metadata": {},
   "outputs": [
    {
     "name": "stdout",
     "output_type": "stream",
     "text": [
      "sellerRating Score: 0.35712\n",
      "OpenPrice Score: 0.57551\n",
      "Category_Antique/Art/Craft Score: 0.00000\n",
      "Category_Automotive Score: 0.00000\n",
      "Category_Books Score: 0.00000\n",
      "Category_Business/Industrial Score: 0.00000\n",
      "Category_Clothing/Accessories Score: 0.00000\n",
      "Category_Coins/Stamps Score: 0.00000\n",
      "Category_Collectibles Score: 0.00000\n",
      "Category_Computer Score: 0.00000\n",
      "Category_Electronics Score: 0.00000\n",
      "Category_EverythingElse Score: 0.00000\n",
      "Category_Health/Beauty Score: 0.00000\n",
      "Category_Home/Garden Score: 0.00000\n",
      "Category_Jewelry Score: 0.00000\n",
      "Category_Music/Movie/Game Score: 0.02398\n",
      "Category_Photography Score: 0.00000\n",
      "Category_Pottery/Glass Score: 0.00000\n",
      "Category_SportingGoods Score: 0.00000\n",
      "Category_Toys/Hobbies Score: 0.02968\n",
      "Currency_EUR Score: 0.01371\n",
      "Currency_GBP Score: 0.00000\n",
      "Currency_US Score: 0.00000\n",
      "Duration_1 Score: 0.00000\n",
      "Duration_3 Score: 0.00000\n",
      "Duration_5 Score: 0.00000\n",
      "Duration_7 Score: 0.00000\n",
      "Duration_10 Score: 0.00000\n",
      "endDay_Fri Score: 0.00000\n",
      "endDay_Mon Score: 0.00000\n",
      "endDay_Sat Score: 0.00000\n",
      "endDay_Sun Score: 0.00000\n",
      "endDay_Thu Score: 0.00000\n",
      "endDay_Tue Score: 0.00000\n",
      "endDay_Wed Score: 0.00000\n"
     ]
    }
   ],
   "source": [
    "# The importance of a feature is computed as the (normalized) total reduction of the criterion brought by that feature. \n",
    "# It is also known as the Gini importance. The higher, the more important the feature. \n",
    "\n",
    "importance = smallClassTree.feature_importances_\n",
    "    \n",
    "for name, importance in zip(X_train_.columns, importance):\n",
    "    print('%s Score: %.5f' % (name, importance))"
   ]
  },
  {
   "cell_type": "markdown",
   "metadata": {},
   "source": [
    "#### Based on this last tree, what can you conclude from these data about the chances of an auction obtaining at least two bids (our definition of competitiveness) and its relationship to the auction settings set by the seller (duration, opening price, ending day, currency)?\n",
    "\n",
    "The opening price is the most important predictor among all as it has the highest feature importance score. \n",
    "\n",
    "The Duration and Ending Day seems to be very insigficant in predicting the chances of an auction obtaining at least two bids. \n",
    "\n",
    "For Currency, if the currency is in Euro, there seems to be a slightly higher chance of an auction being competitive. However, the Currencies GBP and US are not significant. "
   ]
  },
  {
   "cell_type": "markdown",
   "metadata": {},
   "source": [
    "#### What would you recommend for a seller as the strategy that will most likely lead to a competitive auction?\n",
    "\n",
    "Lower the opening price, which gives a higher chance of the auction obtaining at least two bids. For every transaction, be friendly and responsible in order to keep a high seller rating within the band of seller ratings for popular sellers - the extremely high seller ratings observed seem impractical, are likely observed in cases of good but unpopular sellers and do not predict competitive auctions anyway.\n",
    "\n",
    "Items which are in Category_Music/Movie/Game and Category_Toys/Hobbies are slightly better than other categories. One might want to be strategic about selecting the category for some items which can belong to multiple categories including those above. \n",
    "\n",
    "Setting the price in euro might also slightly improve the competitiveness but this will depend on seller's prefence and region where they live. (this conclusion is shaky but has some merit)"
   ]
  },
  {
   "cell_type": "code",
   "execution_count": null,
   "metadata": {},
   "outputs": [],
   "source": []
  }
 ],
 "metadata": {
  "kernelspec": {
   "display_name": "Python 3 (ipykernel)",
   "language": "python",
   "name": "python3"
  },
  "language_info": {
   "codemirror_mode": {
    "name": "ipython",
    "version": 3
   },
   "file_extension": ".py",
   "mimetype": "text/x-python",
   "name": "python",
   "nbconvert_exporter": "python",
   "pygments_lexer": "ipython3",
   "version": "3.7.12"
  }
 },
 "nbformat": 4,
 "nbformat_minor": 4
}
